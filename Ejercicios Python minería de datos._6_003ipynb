{
 "cells": [
  {
   "cell_type": "markdown",
   "metadata": {},
   "source": [
    "# World Development Indicators"
   ]
  },
  {
   "cell_type": "markdown",
   "metadata": {},
   "source": [
    "### P1-Manipulación de datos\n",
    "### Descripción de datos:\n",
    "Los datos elegidos son indicadores de desarrollo de países de todo el mundo compilados a partir de fuentes internacionales oficialmente reconocidas.\n",
    "\n",
    "\n",
    "Con las siguientes líneas analizaremos nuestra base de datos."
   ]
  },
  {
   "cell_type": "code",
   "execution_count": 1,
   "metadata": {},
   "outputs": [],
   "source": [
    "import pandas as pd\n",
    "import numpy as np"
   ]
  },
  {
   "cell_type": "code",
   "execution_count": 2,
   "metadata": {},
   "outputs": [],
   "source": [
    "df = pd.read_csv(\"Indicators.csv\")"
   ]
  },
  {
   "cell_type": "code",
   "execution_count": 3,
   "metadata": {},
   "outputs": [
    {
     "data": {
      "text/html": [
       "<div>\n",
       "<style scoped>\n",
       "    .dataframe tbody tr th:only-of-type {\n",
       "        vertical-align: middle;\n",
       "    }\n",
       "\n",
       "    .dataframe tbody tr th {\n",
       "        vertical-align: top;\n",
       "    }\n",
       "\n",
       "    .dataframe thead th {\n",
       "        text-align: right;\n",
       "    }\n",
       "</style>\n",
       "<table border=\"1\" class=\"dataframe\">\n",
       "  <thead>\n",
       "    <tr style=\"text-align: right;\">\n",
       "      <th></th>\n",
       "      <th>CountryName</th>\n",
       "      <th>CountryCode</th>\n",
       "      <th>IndicatorName</th>\n",
       "      <th>IndicatorCode</th>\n",
       "      <th>Year</th>\n",
       "      <th>Value</th>\n",
       "    </tr>\n",
       "  </thead>\n",
       "  <tbody>\n",
       "    <tr>\n",
       "      <th>0</th>\n",
       "      <td>Arab World</td>\n",
       "      <td>ARB</td>\n",
       "      <td>Adolescent fertility rate (births per 1,000 wo...</td>\n",
       "      <td>SP.ADO.TFRT</td>\n",
       "      <td>1960</td>\n",
       "      <td>1.335609e+02</td>\n",
       "    </tr>\n",
       "    <tr>\n",
       "      <th>1</th>\n",
       "      <td>Arab World</td>\n",
       "      <td>ARB</td>\n",
       "      <td>Age dependency ratio (% of working-age populat...</td>\n",
       "      <td>SP.POP.DPND</td>\n",
       "      <td>1960</td>\n",
       "      <td>8.779760e+01</td>\n",
       "    </tr>\n",
       "    <tr>\n",
       "      <th>2</th>\n",
       "      <td>Arab World</td>\n",
       "      <td>ARB</td>\n",
       "      <td>Age dependency ratio, old (% of working-age po...</td>\n",
       "      <td>SP.POP.DPND.OL</td>\n",
       "      <td>1960</td>\n",
       "      <td>6.634579e+00</td>\n",
       "    </tr>\n",
       "    <tr>\n",
       "      <th>3</th>\n",
       "      <td>Arab World</td>\n",
       "      <td>ARB</td>\n",
       "      <td>Age dependency ratio, young (% of working-age ...</td>\n",
       "      <td>SP.POP.DPND.YG</td>\n",
       "      <td>1960</td>\n",
       "      <td>8.102333e+01</td>\n",
       "    </tr>\n",
       "    <tr>\n",
       "      <th>4</th>\n",
       "      <td>Arab World</td>\n",
       "      <td>ARB</td>\n",
       "      <td>Arms exports (SIPRI trend indicator values)</td>\n",
       "      <td>MS.MIL.XPRT.KD</td>\n",
       "      <td>1960</td>\n",
       "      <td>3.000000e+06</td>\n",
       "    </tr>\n",
       "    <tr>\n",
       "      <th>...</th>\n",
       "      <td>...</td>\n",
       "      <td>...</td>\n",
       "      <td>...</td>\n",
       "      <td>...</td>\n",
       "      <td>...</td>\n",
       "      <td>...</td>\n",
       "    </tr>\n",
       "    <tr>\n",
       "      <th>5656453</th>\n",
       "      <td>Zimbabwe</td>\n",
       "      <td>ZWE</td>\n",
       "      <td>Time required to register property (days)</td>\n",
       "      <td>IC.PRP.DURS</td>\n",
       "      <td>2015</td>\n",
       "      <td>3.600000e+01</td>\n",
       "    </tr>\n",
       "    <tr>\n",
       "      <th>5656454</th>\n",
       "      <td>Zimbabwe</td>\n",
       "      <td>ZWE</td>\n",
       "      <td>Time required to start a business (days)</td>\n",
       "      <td>IC.REG.DURS</td>\n",
       "      <td>2015</td>\n",
       "      <td>9.000000e+01</td>\n",
       "    </tr>\n",
       "    <tr>\n",
       "      <th>5656455</th>\n",
       "      <td>Zimbabwe</td>\n",
       "      <td>ZWE</td>\n",
       "      <td>Time to prepare and pay taxes (hours)</td>\n",
       "      <td>IC.TAX.DURS</td>\n",
       "      <td>2015</td>\n",
       "      <td>2.420000e+02</td>\n",
       "    </tr>\n",
       "    <tr>\n",
       "      <th>5656456</th>\n",
       "      <td>Zimbabwe</td>\n",
       "      <td>ZWE</td>\n",
       "      <td>Time to resolve insolvency (years)</td>\n",
       "      <td>IC.ISV.DURS</td>\n",
       "      <td>2015</td>\n",
       "      <td>3.300000e+00</td>\n",
       "    </tr>\n",
       "    <tr>\n",
       "      <th>5656457</th>\n",
       "      <td>Zimbabwe</td>\n",
       "      <td>ZWE</td>\n",
       "      <td>Total tax rate (% of commercial profits)</td>\n",
       "      <td>IC.TAX.TOTL.CP.ZS</td>\n",
       "      <td>2015</td>\n",
       "      <td>3.280000e+01</td>\n",
       "    </tr>\n",
       "  </tbody>\n",
       "</table>\n",
       "<p>5656458 rows × 6 columns</p>\n",
       "</div>"
      ],
      "text/plain": [
       "        CountryName CountryCode  \\\n",
       "0        Arab World         ARB   \n",
       "1        Arab World         ARB   \n",
       "2        Arab World         ARB   \n",
       "3        Arab World         ARB   \n",
       "4        Arab World         ARB   \n",
       "...             ...         ...   \n",
       "5656453    Zimbabwe         ZWE   \n",
       "5656454    Zimbabwe         ZWE   \n",
       "5656455    Zimbabwe         ZWE   \n",
       "5656456    Zimbabwe         ZWE   \n",
       "5656457    Zimbabwe         ZWE   \n",
       "\n",
       "                                             IndicatorName      IndicatorCode  \\\n",
       "0        Adolescent fertility rate (births per 1,000 wo...        SP.ADO.TFRT   \n",
       "1        Age dependency ratio (% of working-age populat...        SP.POP.DPND   \n",
       "2        Age dependency ratio, old (% of working-age po...     SP.POP.DPND.OL   \n",
       "3        Age dependency ratio, young (% of working-age ...     SP.POP.DPND.YG   \n",
       "4              Arms exports (SIPRI trend indicator values)     MS.MIL.XPRT.KD   \n",
       "...                                                    ...                ...   \n",
       "5656453          Time required to register property (days)        IC.PRP.DURS   \n",
       "5656454           Time required to start a business (days)        IC.REG.DURS   \n",
       "5656455              Time to prepare and pay taxes (hours)        IC.TAX.DURS   \n",
       "5656456                 Time to resolve insolvency (years)        IC.ISV.DURS   \n",
       "5656457           Total tax rate (% of commercial profits)  IC.TAX.TOTL.CP.ZS   \n",
       "\n",
       "         Year         Value  \n",
       "0        1960  1.335609e+02  \n",
       "1        1960  8.779760e+01  \n",
       "2        1960  6.634579e+00  \n",
       "3        1960  8.102333e+01  \n",
       "4        1960  3.000000e+06  \n",
       "...       ...           ...  \n",
       "5656453  2015  3.600000e+01  \n",
       "5656454  2015  9.000000e+01  \n",
       "5656455  2015  2.420000e+02  \n",
       "5656456  2015  3.300000e+00  \n",
       "5656457  2015  3.280000e+01  \n",
       "\n",
       "[5656458 rows x 6 columns]"
      ]
     },
     "execution_count": 3,
     "metadata": {},
     "output_type": "execute_result"
    }
   ],
   "source": [
    "df"
   ]
  },
  {
   "cell_type": "markdown",
   "metadata": {},
   "source": [
    "### b y c ++"
   ]
  },
  {
   "cell_type": "code",
   "execution_count": 11,
   "metadata": {},
   "outputs": [
    {
     "data": {
      "text/plain": [
       "(5656458, 6)"
      ]
     },
     "execution_count": 11,
     "metadata": {},
     "output_type": "execute_result"
    }
   ],
   "source": [
    "df.shape"
   ]
  },
  {
   "cell_type": "code",
   "execution_count": 12,
   "metadata": {},
   "outputs": [
    {
     "data": {
      "text/plain": [
       "Index(['CountryName', 'CountryCode', 'IndicatorName', 'IndicatorCode', 'Year',\n",
       "       'Value'],\n",
       "      dtype='object')"
      ]
     },
     "execution_count": 12,
     "metadata": {},
     "output_type": "execute_result"
    }
   ],
   "source": [
    "df.columns"
   ]
  },
  {
   "cell_type": "code",
   "execution_count": 13,
   "metadata": {},
   "outputs": [
    {
     "data": {
      "text/plain": [
       "CountryName       object\n",
       "CountryCode       object\n",
       "IndicatorName     object\n",
       "IndicatorCode     object\n",
       "Year               int64\n",
       "Value            float64\n",
       "dtype: object"
      ]
     },
     "execution_count": 13,
     "metadata": {},
     "output_type": "execute_result"
    }
   ],
   "source": [
    "df.dtypes"
   ]
  },
  {
   "cell_type": "code",
   "execution_count": 14,
   "metadata": {},
   "outputs": [
    {
     "data": {
      "text/plain": [
       "CountryName      False\n",
       "CountryCode      False\n",
       "IndicatorName    False\n",
       "IndicatorCode    False\n",
       "Year             False\n",
       "Value            False\n",
       "dtype: bool"
      ]
     },
     "execution_count": 14,
     "metadata": {},
     "output_type": "execute_result"
    }
   ],
   "source": [
    "df.isnull().any()"
   ]
  },
  {
   "cell_type": "markdown",
   "metadata": {},
   "source": [
    "### b)\tAgrupamos los datos por la columna “CountryCode”, en donde por cada archivo agrupado, seleccionamos los grupos de países de una manera estratégica en busca de no repetir ningún dato. \n",
    "•\tMundo árabe, \n",
    "\n",
    "•\tÁfrica central y Norte\n",
    "\n",
    "•\tEste de Asia y Pacífico\n",
    "\n",
    "•\tEuropa y Asia Central\n",
    "\n",
    "•\tAmérica Latina y Caribe\n",
    "\n",
    "•\tNorteamérica\n",
    "\n",
    "•\tSur de Asia\n",
    "\n",
    "•\tÁfrica y SubSahara"
   ]
  },
  {
   "cell_type": "code",
   "execution_count": 15,
   "metadata": {},
   "outputs": [],
   "source": [
    "ARB= df[df['CountryCode']=='ARB']\n",
    "\n",
    "ARB.to_csv('Solo_Mundo_Arabe.csv', index=False)"
   ]
  },
  {
   "cell_type": "code",
   "execution_count": 16,
   "metadata": {},
   "outputs": [],
   "source": [
    "MEA= df[df['CountryCode']=='MEA']\n",
    "\n",
    "MEA.to_csv('Solo_Africa_CentralyNorte.csv', index=False)"
   ]
  },
  {
   "cell_type": "code",
   "execution_count": 17,
   "metadata": {},
   "outputs": [],
   "source": [
    "EAS= df[df['CountryCode']=='EAS']\n",
    "\n",
    "EAS.to_csv('Solo_EstedeAsia_Pacífico.csv', index=False)"
   ]
  },
  {
   "cell_type": "code",
   "execution_count": 18,
   "metadata": {},
   "outputs": [],
   "source": [
    "ECS= df[df['CountryCode']=='ECS']\n",
    "\n",
    "ECS.to_csv('Solo_Europa_AsiaCentral.csv', index=False)"
   ]
  },
  {
   "cell_type": "code",
   "execution_count": 19,
   "metadata": {},
   "outputs": [],
   "source": [
    "LCN= df[df['CountryCode']=='LCN']\n",
    "\n",
    "LCN.to_csv('Solo_AmericaLatina_Caribe.csv', index=False)"
   ]
  },
  {
   "cell_type": "code",
   "execution_count": 20,
   "metadata": {},
   "outputs": [],
   "source": [
    "NAC= df[df['CountryCode']=='NAC']\n",
    "\n",
    "NAC.to_csv('Solo_NorteAmerica.csv', index=False)"
   ]
  },
  {
   "cell_type": "code",
   "execution_count": 21,
   "metadata": {},
   "outputs": [],
   "source": [
    "SAS= df[df['CountryCode']=='SAS']\n",
    "\n",
    "SAS.to_csv('Solo_SurAsia.csv', index=False)"
   ]
  },
  {
   "cell_type": "code",
   "execution_count": 22,
   "metadata": {},
   "outputs": [],
   "source": [
    "SSF= df[df['CountryCode']=='SSF']\n",
    "\n",
    "SSF.to_csv('Solo_Africa_SubSahara.csv', index=False)"
   ]
  },
  {
   "cell_type": "markdown",
   "metadata": {},
   "source": [
    "Posteriormente toda esta información la guardaremos en un data frame con el cual trabajaremos durante todo el proyecto donde ya cuenta con toda la información requerida para la búsqueda de nuestros objetivos finales, donde nuestro indicador principal es el de mortalidad infantil"
   ]
  },
  {
   "cell_type": "code",
   "execution_count": 23,
   "metadata": {},
   "outputs": [],
   "source": [
    "WORLD=pd.concat([ARB,MEA,EAS,ECS,LCN,NAC,SAS,SSF], ignore_index=True)\n",
    "WORLD.to_csv('WORLD_GROUPS.csv', index=False)"
   ]
  },
  {
   "cell_type": "code",
   "execution_count": 24,
   "metadata": {},
   "outputs": [
    {
     "data": {
      "text/html": [
       "<div>\n",
       "<style scoped>\n",
       "    .dataframe tbody tr th:only-of-type {\n",
       "        vertical-align: middle;\n",
       "    }\n",
       "\n",
       "    .dataframe tbody tr th {\n",
       "        vertical-align: top;\n",
       "    }\n",
       "\n",
       "    .dataframe thead th {\n",
       "        text-align: right;\n",
       "    }\n",
       "</style>\n",
       "<table border=\"1\" class=\"dataframe\">\n",
       "  <thead>\n",
       "    <tr style=\"text-align: right;\">\n",
       "      <th></th>\n",
       "      <th>CountryName</th>\n",
       "      <th>CountryCode</th>\n",
       "      <th>IndicatorName</th>\n",
       "      <th>IndicatorCode</th>\n",
       "      <th>Year</th>\n",
       "      <th>Value</th>\n",
       "    </tr>\n",
       "  </thead>\n",
       "  <tbody>\n",
       "    <tr>\n",
       "      <th>52</th>\n",
       "      <td>Arab World</td>\n",
       "      <td>ARB</td>\n",
       "      <td>Mortality rate, infant (per 1,000 live births)</td>\n",
       "      <td>SP.DYN.IMRT.IN</td>\n",
       "      <td>1960</td>\n",
       "      <td>159.950234</td>\n",
       "    </tr>\n",
       "    <tr>\n",
       "      <th>138</th>\n",
       "      <td>Arab World</td>\n",
       "      <td>ARB</td>\n",
       "      <td>Mortality rate, infant (per 1,000 live births)</td>\n",
       "      <td>SP.DYN.IMRT.IN</td>\n",
       "      <td>1961</td>\n",
       "      <td>155.313614</td>\n",
       "    </tr>\n",
       "    <tr>\n",
       "      <th>231</th>\n",
       "      <td>Arab World</td>\n",
       "      <td>ARB</td>\n",
       "      <td>Mortality rate, infant (per 1,000 live births)</td>\n",
       "      <td>SP.DYN.IMRT.IN</td>\n",
       "      <td>1962</td>\n",
       "      <td>152.233048</td>\n",
       "    </tr>\n",
       "    <tr>\n",
       "      <th>327</th>\n",
       "      <td>Arab World</td>\n",
       "      <td>ARB</td>\n",
       "      <td>Mortality rate, infant (per 1,000 live births)</td>\n",
       "      <td>SP.DYN.IMRT.IN</td>\n",
       "      <td>1963</td>\n",
       "      <td>156.521984</td>\n",
       "    </tr>\n",
       "    <tr>\n",
       "      <th>425</th>\n",
       "      <td>Arab World</td>\n",
       "      <td>ARB</td>\n",
       "      <td>Mortality rate, infant (per 1,000 live births)</td>\n",
       "      <td>SP.DYN.IMRT.IN</td>\n",
       "      <td>1964</td>\n",
       "      <td>152.166551</td>\n",
       "    </tr>\n",
       "    <tr>\n",
       "      <th>...</th>\n",
       "      <td>...</td>\n",
       "      <td>...</td>\n",
       "      <td>...</td>\n",
       "      <td>...</td>\n",
       "      <td>...</td>\n",
       "      <td>...</td>\n",
       "    </tr>\n",
       "    <tr>\n",
       "      <th>163989</th>\n",
       "      <td>Sub-Saharan Africa (all income levels)</td>\n",
       "      <td>SSF</td>\n",
       "      <td>Mortality rate, infant (per 1,000 live births)</td>\n",
       "      <td>SP.DYN.IMRT.IN</td>\n",
       "      <td>2011</td>\n",
       "      <td>63.695070</td>\n",
       "    </tr>\n",
       "    <tr>\n",
       "      <th>164577</th>\n",
       "      <td>Sub-Saharan Africa (all income levels)</td>\n",
       "      <td>SSF</td>\n",
       "      <td>Mortality rate, infant (per 1,000 live births)</td>\n",
       "      <td>SP.DYN.IMRT.IN</td>\n",
       "      <td>2012</td>\n",
       "      <td>61.540075</td>\n",
       "    </tr>\n",
       "    <tr>\n",
       "      <th>165119</th>\n",
       "      <td>Sub-Saharan Africa (all income levels)</td>\n",
       "      <td>SSF</td>\n",
       "      <td>Mortality rate, infant (per 1,000 live births)</td>\n",
       "      <td>SP.DYN.IMRT.IN</td>\n",
       "      <td>2013</td>\n",
       "      <td>59.706947</td>\n",
       "    </tr>\n",
       "    <tr>\n",
       "      <th>165524</th>\n",
       "      <td>Sub-Saharan Africa (all income levels)</td>\n",
       "      <td>SSF</td>\n",
       "      <td>Mortality rate, infant (per 1,000 live births)</td>\n",
       "      <td>SP.DYN.IMRT.IN</td>\n",
       "      <td>2014</td>\n",
       "      <td>57.932412</td>\n",
       "    </tr>\n",
       "    <tr>\n",
       "      <th>165622</th>\n",
       "      <td>Sub-Saharan Africa (all income levels)</td>\n",
       "      <td>SSF</td>\n",
       "      <td>Mortality rate, infant (per 1,000 live births)</td>\n",
       "      <td>SP.DYN.IMRT.IN</td>\n",
       "      <td>2015</td>\n",
       "      <td>56.353473</td>\n",
       "    </tr>\n",
       "  </tbody>\n",
       "</table>\n",
       "<p>421 rows × 6 columns</p>\n",
       "</div>"
      ],
      "text/plain": [
       "                                   CountryName CountryCode  \\\n",
       "52                                  Arab World         ARB   \n",
       "138                                 Arab World         ARB   \n",
       "231                                 Arab World         ARB   \n",
       "327                                 Arab World         ARB   \n",
       "425                                 Arab World         ARB   \n",
       "...                                        ...         ...   \n",
       "163989  Sub-Saharan Africa (all income levels)         SSF   \n",
       "164577  Sub-Saharan Africa (all income levels)         SSF   \n",
       "165119  Sub-Saharan Africa (all income levels)         SSF   \n",
       "165524  Sub-Saharan Africa (all income levels)         SSF   \n",
       "165622  Sub-Saharan Africa (all income levels)         SSF   \n",
       "\n",
       "                                         IndicatorName   IndicatorCode  Year  \\\n",
       "52      Mortality rate, infant (per 1,000 live births)  SP.DYN.IMRT.IN  1960   \n",
       "138     Mortality rate, infant (per 1,000 live births)  SP.DYN.IMRT.IN  1961   \n",
       "231     Mortality rate, infant (per 1,000 live births)  SP.DYN.IMRT.IN  1962   \n",
       "327     Mortality rate, infant (per 1,000 live births)  SP.DYN.IMRT.IN  1963   \n",
       "425     Mortality rate, infant (per 1,000 live births)  SP.DYN.IMRT.IN  1964   \n",
       "...                                                ...             ...   ...   \n",
       "163989  Mortality rate, infant (per 1,000 live births)  SP.DYN.IMRT.IN  2011   \n",
       "164577  Mortality rate, infant (per 1,000 live births)  SP.DYN.IMRT.IN  2012   \n",
       "165119  Mortality rate, infant (per 1,000 live births)  SP.DYN.IMRT.IN  2013   \n",
       "165524  Mortality rate, infant (per 1,000 live births)  SP.DYN.IMRT.IN  2014   \n",
       "165622  Mortality rate, infant (per 1,000 live births)  SP.DYN.IMRT.IN  2015   \n",
       "\n",
       "             Value  \n",
       "52      159.950234  \n",
       "138     155.313614  \n",
       "231     152.233048  \n",
       "327     156.521984  \n",
       "425     152.166551  \n",
       "...            ...  \n",
       "163989   63.695070  \n",
       "164577   61.540075  \n",
       "165119   59.706947  \n",
       "165524   57.932412  \n",
       "165622   56.353473  \n",
       "\n",
       "[421 rows x 6 columns]"
      ]
     },
     "execution_count": 24,
     "metadata": {},
     "output_type": "execute_result"
    }
   ],
   "source": [
    "WORLD_MINF= WORLD[WORLD['IndicatorCode']=='SP.DYN.IMRT.IN']\n",
    "WORLD_MINF.to_csv('Completa_Mortalidad_Infantil.csv', index=False)\n",
    "WORLD_MINF"
   ]
  },
  {
   "cell_type": "code",
   "execution_count": 25,
   "metadata": {},
   "outputs": [
    {
     "data": {
      "text/plain": [
       "(421, 6)"
      ]
     },
     "execution_count": 25,
     "metadata": {},
     "output_type": "execute_result"
    }
   ],
   "source": [
    "WORLD_MINF.shape"
   ]
  },
  {
   "cell_type": "code",
   "execution_count": 26,
   "metadata": {},
   "outputs": [
    {
     "data": {
      "text/plain": [
       "Index(['CountryName', 'CountryCode', 'IndicatorName', 'IndicatorCode', 'Year',\n",
       "       'Value'],\n",
       "      dtype='object')"
      ]
     },
     "execution_count": 26,
     "metadata": {},
     "output_type": "execute_result"
    }
   ],
   "source": [
    "WORLD_MINF.columns"
   ]
  },
  {
   "cell_type": "code",
   "execution_count": 22,
   "metadata": {},
   "outputs": [
    {
     "data": {
      "text/plain": [
       "CountryName       object\n",
       "CountryCode       object\n",
       "IndicatorName     object\n",
       "IndicatorCode     object\n",
       "Year               int64\n",
       "Value            float64\n",
       "dtype: object"
      ]
     },
     "execution_count": 22,
     "metadata": {},
     "output_type": "execute_result"
    }
   ],
   "source": [
    "WORLD_MINF.dtypes"
   ]
  },
  {
   "cell_type": "code",
   "execution_count": 27,
   "metadata": {},
   "outputs": [
    {
     "data": {
      "text/plain": [
       "CountryName      False\n",
       "CountryCode      False\n",
       "IndicatorName    False\n",
       "IndicatorCode    False\n",
       "Year             False\n",
       "Value            False\n",
       "dtype: bool"
      ]
     },
     "execution_count": 27,
     "metadata": {},
     "output_type": "execute_result"
    }
   ],
   "source": [
    "WORLD_MINF.isnull().any()"
   ]
  },
  {
   "cell_type": "markdown",
   "metadata": {},
   "source": [
    "### P2-Manipulación de datos"
   ]
  },
  {
   "cell_type": "code",
   "execution_count": 28,
   "metadata": {},
   "outputs": [
    {
     "data": {
      "text/plain": [
       "CountryName\n",
       "Arab World                                         79.121216\n",
       "East Asia & Pacific (all income levels)            41.349115\n",
       "Europe & Central Asia (all income levels)          24.773001\n",
       "Latin America & Caribbean (all income levels)      53.889980\n",
       "Middle East & North Africa (all income levels)     71.417626\n",
       "North America                                      12.237646\n",
       "South Asia                                        100.666071\n",
       "Sub-Saharan Africa (all income levels)            105.140271\n",
       "Name: Value, dtype: float64"
      ]
     },
     "execution_count": 28,
     "metadata": {},
     "output_type": "execute_result"
    }
   ],
   "source": [
    "means = WORLD_MINF.groupby('CountryName')['Value'].mean()\n",
    "means"
   ]
  },
  {
   "cell_type": "code",
   "execution_count": 29,
   "metadata": {},
   "outputs": [
    {
     "data": {
      "text/html": [
       "<div>\n",
       "<style scoped>\n",
       "    .dataframe tbody tr th:only-of-type {\n",
       "        vertical-align: middle;\n",
       "    }\n",
       "\n",
       "    .dataframe tbody tr th {\n",
       "        vertical-align: top;\n",
       "    }\n",
       "\n",
       "    .dataframe thead th {\n",
       "        text-align: right;\n",
       "    }\n",
       "</style>\n",
       "<table border=\"1\" class=\"dataframe\">\n",
       "  <thead>\n",
       "    <tr style=\"text-align: right;\">\n",
       "      <th></th>\n",
       "      <th>count</th>\n",
       "      <th>mean</th>\n",
       "      <th>std</th>\n",
       "      <th>min</th>\n",
       "      <th>25%</th>\n",
       "      <th>50%</th>\n",
       "      <th>75%</th>\n",
       "      <th>max</th>\n",
       "    </tr>\n",
       "    <tr>\n",
       "      <th>CountryName</th>\n",
       "      <th></th>\n",
       "      <th></th>\n",
       "      <th></th>\n",
       "      <th></th>\n",
       "      <th></th>\n",
       "      <th></th>\n",
       "      <th></th>\n",
       "      <th></th>\n",
       "    </tr>\n",
       "  </thead>\n",
       "  <tbody>\n",
       "    <tr>\n",
       "      <th>Arab World</th>\n",
       "      <td>56.0</td>\n",
       "      <td>79.121216</td>\n",
       "      <td>42.932262</td>\n",
       "      <td>27.983485</td>\n",
       "      <td>42.566856</td>\n",
       "      <td>63.044832</td>\n",
       "      <td>117.029598</td>\n",
       "      <td>159.950234</td>\n",
       "    </tr>\n",
       "    <tr>\n",
       "      <th>East Asia &amp; Pacific (all income levels)</th>\n",
       "      <td>47.0</td>\n",
       "      <td>41.349115</td>\n",
       "      <td>18.277200</td>\n",
       "      <td>14.184070</td>\n",
       "      <td>26.288861</td>\n",
       "      <td>41.567465</td>\n",
       "      <td>52.167207</td>\n",
       "      <td>81.548376</td>\n",
       "    </tr>\n",
       "    <tr>\n",
       "      <th>Europe &amp; Central Asia (all income levels)</th>\n",
       "      <td>46.0</td>\n",
       "      <td>24.773001</td>\n",
       "      <td>9.976959</td>\n",
       "      <td>9.666805</td>\n",
       "      <td>15.581026</td>\n",
       "      <td>24.810901</td>\n",
       "      <td>33.880122</td>\n",
       "      <td>41.366800</td>\n",
       "    </tr>\n",
       "    <tr>\n",
       "      <th>Latin America &amp; Caribbean (all income levels)</th>\n",
       "      <td>56.0</td>\n",
       "      <td>53.889980</td>\n",
       "      <td>31.580953</td>\n",
       "      <td>15.221667</td>\n",
       "      <td>24.914480</td>\n",
       "      <td>47.399919</td>\n",
       "      <td>79.113631</td>\n",
       "      <td>120.531796</td>\n",
       "    </tr>\n",
       "    <tr>\n",
       "      <th>Middle East &amp; North Africa (all income levels)</th>\n",
       "      <td>54.0</td>\n",
       "      <td>71.417626</td>\n",
       "      <td>46.260888</td>\n",
       "      <td>19.659279</td>\n",
       "      <td>31.878673</td>\n",
       "      <td>53.405701</td>\n",
       "      <td>109.866293</td>\n",
       "      <td>161.976583</td>\n",
       "    </tr>\n",
       "    <tr>\n",
       "      <th>North America</th>\n",
       "      <td>56.0</td>\n",
       "      <td>12.237646</td>\n",
       "      <td>6.430894</td>\n",
       "      <td>5.486030</td>\n",
       "      <td>6.847809</td>\n",
       "      <td>9.855692</td>\n",
       "      <td>16.740162</td>\n",
       "      <td>26.084210</td>\n",
       "    </tr>\n",
       "    <tr>\n",
       "      <th>South Asia</th>\n",
       "      <td>56.0</td>\n",
       "      <td>100.666071</td>\n",
       "      <td>38.924446</td>\n",
       "      <td>41.900000</td>\n",
       "      <td>66.050000</td>\n",
       "      <td>97.750000</td>\n",
       "      <td>135.525000</td>\n",
       "      <td>168.000000</td>\n",
       "    </tr>\n",
       "    <tr>\n",
       "      <th>Sub-Saharan Africa (all income levels)</th>\n",
       "      <td>50.0</td>\n",
       "      <td>105.140271</td>\n",
       "      <td>26.382057</td>\n",
       "      <td>56.353473</td>\n",
       "      <td>86.341860</td>\n",
       "      <td>108.115504</td>\n",
       "      <td>121.956126</td>\n",
       "      <td>152.967452</td>\n",
       "    </tr>\n",
       "  </tbody>\n",
       "</table>\n",
       "</div>"
      ],
      "text/plain": [
       "                                                count        mean        std  \\\n",
       "CountryName                                                                    \n",
       "Arab World                                       56.0   79.121216  42.932262   \n",
       "East Asia & Pacific (all income levels)          47.0   41.349115  18.277200   \n",
       "Europe & Central Asia (all income levels)        46.0   24.773001   9.976959   \n",
       "Latin America & Caribbean (all income levels)    56.0   53.889980  31.580953   \n",
       "Middle East & North Africa (all income levels)   54.0   71.417626  46.260888   \n",
       "North America                                    56.0   12.237646   6.430894   \n",
       "South Asia                                       56.0  100.666071  38.924446   \n",
       "Sub-Saharan Africa (all income levels)           50.0  105.140271  26.382057   \n",
       "\n",
       "                                                      min        25%  \\\n",
       "CountryName                                                            \n",
       "Arab World                                      27.983485  42.566856   \n",
       "East Asia & Pacific (all income levels)         14.184070  26.288861   \n",
       "Europe & Central Asia (all income levels)        9.666805  15.581026   \n",
       "Latin America & Caribbean (all income levels)   15.221667  24.914480   \n",
       "Middle East & North Africa (all income levels)  19.659279  31.878673   \n",
       "North America                                    5.486030   6.847809   \n",
       "South Asia                                      41.900000  66.050000   \n",
       "Sub-Saharan Africa (all income levels)          56.353473  86.341860   \n",
       "\n",
       "                                                       50%         75%  \\\n",
       "CountryName                                                              \n",
       "Arab World                                       63.044832  117.029598   \n",
       "East Asia & Pacific (all income levels)          41.567465   52.167207   \n",
       "Europe & Central Asia (all income levels)        24.810901   33.880122   \n",
       "Latin America & Caribbean (all income levels)    47.399919   79.113631   \n",
       "Middle East & North Africa (all income levels)   53.405701  109.866293   \n",
       "North America                                     9.855692   16.740162   \n",
       "South Asia                                       97.750000  135.525000   \n",
       "Sub-Saharan Africa (all income levels)          108.115504  121.956126   \n",
       "\n",
       "                                                       max  \n",
       "CountryName                                                 \n",
       "Arab World                                      159.950234  \n",
       "East Asia & Pacific (all income levels)          81.548376  \n",
       "Europe & Central Asia (all income levels)        41.366800  \n",
       "Latin America & Caribbean (all income levels)   120.531796  \n",
       "Middle East & North Africa (all income levels)  161.976583  \n",
       "North America                                    26.084210  \n",
       "South Asia                                      168.000000  \n",
       "Sub-Saharan Africa (all income levels)          152.967452  "
      ]
     },
     "execution_count": 29,
     "metadata": {},
     "output_type": "execute_result"
    }
   ],
   "source": [
    "WORLD_MINF.groupby('CountryName')['Value'].describe()"
   ]
  },
  {
   "cell_type": "code",
   "execution_count": 26,
   "metadata": {},
   "outputs": [
    {
     "data": {
      "text/html": [
       "<div>\n",
       "<style scoped>\n",
       "    .dataframe tbody tr th:only-of-type {\n",
       "        vertical-align: middle;\n",
       "    }\n",
       "\n",
       "    .dataframe tbody tr th {\n",
       "        vertical-align: top;\n",
       "    }\n",
       "\n",
       "    .dataframe thead th {\n",
       "        text-align: right;\n",
       "    }\n",
       "</style>\n",
       "<table border=\"1\" class=\"dataframe\">\n",
       "  <thead>\n",
       "    <tr style=\"text-align: right;\">\n",
       "      <th></th>\n",
       "      <th>Year</th>\n",
       "      <th>Value</th>\n",
       "    </tr>\n",
       "  </thead>\n",
       "  <tbody>\n",
       "    <tr>\n",
       "      <th>Year</th>\n",
       "      <td>1.000000</td>\n",
       "      <td>-0.637381</td>\n",
       "    </tr>\n",
       "    <tr>\n",
       "      <th>Value</th>\n",
       "      <td>-0.637381</td>\n",
       "      <td>1.000000</td>\n",
       "    </tr>\n",
       "  </tbody>\n",
       "</table>\n",
       "</div>"
      ],
      "text/plain": [
       "           Year     Value\n",
       "Year   1.000000 -0.637381\n",
       "Value -0.637381  1.000000"
      ]
     },
     "execution_count": 26,
     "metadata": {},
     "output_type": "execute_result"
    }
   ],
   "source": [
    "WORLD_MINF.corr()"
   ]
  },
  {
   "cell_type": "code",
   "execution_count": 30,
   "metadata": {},
   "outputs": [
    {
     "data": {
      "text/html": [
       "<div>\n",
       "<style scoped>\n",
       "    .dataframe tbody tr th:only-of-type {\n",
       "        vertical-align: middle;\n",
       "    }\n",
       "\n",
       "    .dataframe tbody tr th {\n",
       "        vertical-align: top;\n",
       "    }\n",
       "\n",
       "    .dataframe thead th {\n",
       "        text-align: right;\n",
       "    }\n",
       "</style>\n",
       "<table border=\"1\" class=\"dataframe\">\n",
       "  <thead>\n",
       "    <tr style=\"text-align: right;\">\n",
       "      <th></th>\n",
       "      <th>Year</th>\n",
       "      <th>Value</th>\n",
       "    </tr>\n",
       "  </thead>\n",
       "  <tbody>\n",
       "    <tr>\n",
       "      <th>Year</th>\n",
       "      <td>239.098892</td>\n",
       "      <td>-438.999061</td>\n",
       "    </tr>\n",
       "    <tr>\n",
       "      <th>Value</th>\n",
       "      <td>-438.999061</td>\n",
       "      <td>1984.042045</td>\n",
       "    </tr>\n",
       "  </tbody>\n",
       "</table>\n",
       "</div>"
      ],
      "text/plain": [
       "             Year        Value\n",
       "Year   239.098892  -438.999061\n",
       "Value -438.999061  1984.042045"
      ]
     },
     "execution_count": 30,
     "metadata": {},
     "output_type": "execute_result"
    }
   ],
   "source": [
    "WORLD_MINF.cov()"
   ]
  },
  {
   "cell_type": "code",
   "execution_count": 31,
   "metadata": {},
   "outputs": [],
   "source": [
    "import seaborn as sns\n",
    "import matplotlib.pyplot as plt"
   ]
  },
  {
   "cell_type": "code",
   "execution_count": 32,
   "metadata": {},
   "outputs": [
    {
     "data": {
      "text/plain": [
       "<seaborn.axisgrid.FacetGrid at 0x1e1071e9f40>"
      ]
     },
     "execution_count": 32,
     "metadata": {},
     "output_type": "execute_result"
    },
    {
     "data": {
      "image/png": "[encoded data removed]",
      "text/plain": [
       "<Figure size 2880x360 with 8 Axes>"
      ]
     },
     "metadata": {
      "needs_background": "light"
     },
     "output_type": "display_data"
    }
   ],
   "source": [
    "sns.lmplot(x=\"Year\", y=\"Value\", data=WORLD_MINF,col=\"CountryName\")"
   ]
  },
  {
   "cell_type": "code",
   "execution_count": 33,
   "metadata": {},
   "outputs": [
    {
     "data": {
      "text/plain": [
       "<matplotlib.axes._subplots.AxesSubplot at 0x1e1078d4bb0>"
      ]
     },
     "execution_count": 33,
     "metadata": {},
     "output_type": "execute_result"
    },
    {
     "data": {
      "image/png": "[encoded data removed]",
      "text/plain": [
       "<Figure size 1296x1296 with 2 Axes>"
      ]
     },
     "metadata": {
      "needs_background": "light"
     },
     "output_type": "display_data"
    }
   ],
   "source": [
    "flights_long = WORLD_MINF\n",
    "flights = flights_long.pivot(\"CountryName\", \"Year\", \"Value\")\n",
    "\n",
    "f, ax = plt.subplots(figsize=(18, 18))\n",
    "sns.heatmap(flights, annot=False, linewidths=.5, ax=ax)"
   ]
  },
  {
   "cell_type": "code",
   "execution_count": 48,
   "metadata": {
    "scrolled": true
   },
   "outputs": [
    {
     "data": {
      "text/plain": [
       "<matplotlib.axes._subplots.AxesSubplot at 0x1e1084e4640>"
      ]
     },
     "execution_count": 48,
     "metadata": {},
     "output_type": "execute_result"
    },
    {
     "data": {
      "image/png": "[encoded data removed]",
      "text/plain": [
       "<Figure size 432x288 with 1 Axes>"
      ]
     },
     "metadata": {
      "needs_background": "light"
     },
     "output_type": "display_data"
    }
   ],
   "source": [
    "sns.violinplot( x='CountryName',y='Value', data=WORLD_MINF)"
   ]
  },
  {
   "cell_type": "code",
   "execution_count": 59,
   "metadata": {},
   "outputs": [
    {
     "data": {
      "image/png": "[encoded data removed]",
      "text/plain": [
       "<Figure size 432x288 with 1 Axes>"
      ]
     },
     "metadata": {
      "needs_background": "light"
     },
     "output_type": "display_data"
    }
   ],
   "source": [
    "fig,ax=plt.subplots()\n",
    "ax.scatter(\"Year\", \"Value\",data= WORLD_MINF)\n",
    "plt.show()"
   ]
  }
 ],
 "metadata": {
  "kernelspec": {
   "display_name": "Python 3",
   "language": "python",
   "name": "python3"
  },
  "language_info": {
   "codemirror_mode": {
    "name": "ipython",
    "version": 3
   },
   "file_extension": ".py",
   "mimetype": "text/x-python",
   "name": "python",
   "nbconvert_exporter": "python",
   "pygments_lexer": "ipython3",
   "version": "3.8.3"
  }
 },
 "nbformat": 4,
 "nbformat_minor": 4
}
