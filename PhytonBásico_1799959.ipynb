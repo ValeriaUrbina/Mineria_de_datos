{
 "cells": [
  {
   "cell_type": "markdown",
   "metadata": {},
   "source": [
    "                        **MINERÍA**\n",
    "                Mayra Cristina Berrones Reyes\n",
    "                \n",
    "                       Phyton Básico\n",
    "\n",
    "\n",
    "  **Nombre: Valeria Esthepania Urbina Gallegos         17999559**\n",
    "                         \n",
    "                    Lic. Actuaría Grupo: 003\n",
    "                         \n",
    "                         \n",
    "San Nicolás de los Garza, Nuevo León 22 octubre 2020"
   ]
  },
  {
   "cell_type": "markdown",
   "metadata": {},
   "source": [
    "**EJERCICIO 1**"
   ]
  },
  {
   "cell_type": "markdown",
   "metadata": {},
   "source": [
    "Realiza una variable con tu matricula y realiza una secuencia de imprimir con tu nombre y tu matricula concatenados."
   ]
  },
  {
   "cell_type": "code",
   "execution_count": 136,
   "metadata": {},
   "outputs": [
    {
     "name": "stdout",
     "output_type": "stream",
     "text": [
      "Matricula: 1799959\n",
      "Nombre: Valeria Urbina\n"
     ]
    }
   ],
   "source": [
    "matricula= input(\"Matricula: \")\n",
    "nombre= input(\"Nombre: \")"
   ]
  },
  {
   "cell_type": "code",
   "execution_count": 137,
   "metadata": {},
   "outputs": [
    {
     "name": "stdout",
     "output_type": "stream",
     "text": [
      "Valeria Urbina 1799959\n"
     ]
    }
   ],
   "source": [
    "print(nombre, matricula)"
   ]
  },
  {
   "cell_type": "markdown",
   "metadata": {},
   "source": [
    "**EJERCICIO 2**"
   ]
  },
  {
   "cell_type": "markdown",
   "metadata": {},
   "source": [
    "Pidiendo el input del usuario pide dos números y crea una pequeña calculadora con los operadores básicos de suma, resta, multiplicación, división, y exponente."
   ]
  },
  {
   "cell_type": "code",
   "execution_count": 38,
   "metadata": {},
   "outputs": [
    {
     "name": "stdout",
     "output_type": "stream",
     "text": [
      "Numero 1: 1\n",
      "Numero 2: 2\n",
      "1. Suma, 2.Resta, 3. Multiplicación, 4.División, 5.Exponente, 6.Salir5\n",
      "1.0\n",
      "1. Suma, 2.Resta, 3. Multiplicación, 4.División, 5.Exponente, 6.Salir3\n",
      "2.0\n",
      "1. Suma, 2.Resta, 3. Multiplicación, 4.División, 5.Exponente, 6.Salir4\n",
      "2.0\n",
      "1. Suma, 2.Resta, 3. Multiplicación, 4.División, 5.Exponente, 6.Salir5\n",
      "1.0\n",
      "1. Suma, 2.Resta, 3. Multiplicación, 4.División, 5.Exponente, 6.Salir1\n",
      "3.0\n",
      "1. Suma, 2.Resta, 3. Multiplicación, 4.División, 5.Exponente, 6.Salir2\n",
      "1.0\n",
      "1. Suma, 2.Resta, 3. Multiplicación, 4.División, 5.Exponente, 6.Salir6\n"
     ]
    }
   ],
   "source": [
    "uno=float(input(\"Numero 1: \"))\n",
    "dos=float(input(\"Numero 2: \"))\n",
    "x=int(input(\"1. Suma, 2.Resta, 3. Multiplicación, 4.División, 5.Exponente, 6.Salir\"))\n",
    "\n",
    "suma=0\n",
    "resta=0\n",
    "multi=0\n",
    "divi=0\n",
    "ex=0\n",
    "i=1\n",
    "\n",
    "while x<=5:\n",
    "   \n",
    "    if x==1:\n",
    "        suma=uno+dos\n",
    "        print(suma)\n",
    "    elif x==2:\n",
    "        resta=dos-uno\n",
    "        print(resta)\n",
    "    elif x==3:\n",
    "        multi=uno*dos\n",
    "        print(multi)\n",
    "    elif x==4:\n",
    "        divi=dos/uno\n",
    "        print(divi)\n",
    "    elif x==5:\n",
    "        ex=uno**dos\n",
    "        print(ex)\n",
    "    else:\n",
    "        print(\"Ingrese del uno al cinco\")\n",
    "    x=int(input(\"1. Suma, 2.Resta, 3. Multiplicación, 4.División, 5.Exponente, 6.Salir\"))\n",
    "    "
   ]
  },
  {
   "cell_type": "markdown",
   "metadata": {},
   "source": [
    "**EJERCICIO 3:**"
   ]
  },
  {
   "cell_type": "markdown",
   "metadata": {},
   "source": [
    "Con loop while o for, realiza una lista de 10 numeros multiplos de 3, y después realiza una función de loop que sume todos los números dentro del arreglo"
   ]
  },
  {
   "cell_type": "code",
   "execution_count": 77,
   "metadata": {},
   "outputs": [
    {
     "name": "stdout",
     "output_type": "stream",
     "text": [
      "Dime el numero 1: 3\n",
      "Dime el numero 2: 6\n",
      "Lalista es:\n",
      "3\n",
      "6\n",
      "La suma es:  9\n"
     ]
    }
   ],
   "source": [
    "d = []\n",
    "\n",
    "for i in range(1,10):\n",
    "    nd = int( input( \"Dime el numero {}: \".format(i)))\n",
    "\n",
    "    if nd%3 == 0:\n",
    "        d.append(nd)\n",
    "    else:\n",
    "        print(\"No es multiplo de 3\")\n",
    "print(\"Lalista es:\")        \n",
    "for i in range(len(d)):\n",
    "    print(d[i])\n",
    "    \n",
    "def sumal(lista):\n",
    "    suma=0\n",
    "    for d in lista:\n",
    "        suma+=d\n",
    "    return suma\n",
    "\n",
    "print(\"La suma es: \", sumal(d))"
   ]
  },
  {
   "cell_type": "markdown",
   "metadata": {},
   "source": [
    "**EJERCICIO 4**"
   ]
  },
  {
   "cell_type": "markdown",
   "metadata": {},
   "source": [
    "Con una función de if else, revisar si un número es par o es impar.\n",
    "Con una función de if else, revisar si un número es primo o no."
   ]
  },
  {
   "cell_type": "markdown",
   "metadata": {},
   "source": [
    "Par o Impar"
   ]
  },
  {
   "cell_type": "code",
   "execution_count": 93,
   "metadata": {},
   "outputs": [
    {
     "name": "stdout",
     "output_type": "stream",
     "text": [
      "Numero: 1\n",
      "Impar\n"
     ]
    }
   ],
   "source": [
    "numero=int(input(\"Numero: \"))\n",
    "\n",
    "if numero%2 == 0:\n",
    "     print(\"Par\")\n",
    "elif numero==1:\n",
    "    print(\"Impar\")\n",
    "else:\n",
    "    print(\"impar\")\n",
    "\n",
    "    \n"
   ]
  },
  {
   "cell_type": "markdown",
   "metadata": {},
   "source": [
    "Primo o no"
   ]
  },
  {
   "cell_type": "code",
   "execution_count": null,
   "metadata": {},
   "outputs": [],
   "source": [
    "numero=int(input(\"Numero: \"))\n",
    "\n",
    "respuesta= True\n",
    "\n",
    "for j in range(2,numero):\n",
    "    if numero%2 == 0:\n",
    "        respuesta= False\n",
    "    break\n",
    "    \n",
    "print(respuesta)"
   ]
  },
  {
   "cell_type": "markdown",
   "metadata": {},
   "source": [
    "**EJERCICIO 5**"
   ]
  },
  {
   "cell_type": "markdown",
   "metadata": {},
   "source": [
    "Utilizando diferentes clases en python, crea una calculadora con los operadores básicos de suma, resta, multiplicación, división, y exponente."
   ]
  },
  {
   "cell_type": "code",
   "execution_count": 131,
   "metadata": {},
   "outputs": [],
   "source": [
    "def sumar(a,b):\n",
    "    print(\"a+b= \",(a+b))\n",
    "def restar(a,b):\n",
    "    print(\"a-b= \",(a-b))\n",
    "def multiplicar(a,b):\n",
    "    print(\"a*b= \",(a*b))\n",
    "def division(a,b):\n",
    "    print(\"b/a= \",(a/b))\n",
    "def exponente(a,b):\n",
    "    print(\"a^b= \",(a**b))"
   ]
  },
  {
   "cell_type": "code",
   "execution_count": 132,
   "metadata": {},
   "outputs": [
    {
     "name": "stdout",
     "output_type": "stream",
     "text": [
      "a+b=  7\n",
      "a-b=  -3\n",
      "a*b=  10\n",
      "b/a=  0.4\n",
      "a^b=  32\n"
     ]
    }
   ],
   "source": [
    "sumar(2,5)\n",
    "restar(2,5)\n",
    "multiplicar(2,5)\n",
    "division(2,5)\n",
    "exponente(2,5)"
   ]
  },
  {
   "cell_type": "markdown",
   "metadata": {},
   "source": [
    "**EJERCICIO CON ESTRUCTURAS BÁSICAS DE PYTHON**"
   ]
  },
  {
   "cell_type": "markdown",
   "metadata": {},
   "source": [
    "Crear una variable flotante, integer, boleana y compleja e imprimir el tipo de variable que es."
   ]
  },
  {
   "cell_type": "code",
   "execution_count": 98,
   "metadata": {},
   "outputs": [
    {
     "name": "stdout",
     "output_type": "stream",
     "text": [
      "<class 'float'> 1.5\n",
      "<class 'int'> 5\n",
      "<class 'int'> 0\n"
     ]
    }
   ],
   "source": [
    "f=1.5\n",
    "i=5\n",
    "b=0\n",
    "\n",
    "print(type(f),f)\n",
    "print(type(i),i)\n",
    "print(type(b),b)"
   ]
  },
  {
   "cell_type": "markdown",
   "metadata": {},
   "source": [
    "Crear una tupla con valores enteros imprimir el primer y ultimo valor."
   ]
  },
  {
   "cell_type": "code",
   "execution_count": 131,
   "metadata": {},
   "outputs": [
    {
     "name": "stdout",
     "output_type": "stream",
     "text": [
      "Dime el numero 1: 1\n",
      "Dime el numero 2: 4\n",
      "Dime el numero 3: 5\n",
      "Dime el numero 4: 4\n",
      "El primer numero es:\n",
      "1\n",
      "El primer numero es:\n",
      "4\n"
     ]
    }
   ],
   "source": [
    "d = []\n",
    "\n",
    "for i in range(1,5):\n",
    "    nd = int( input( \"Dime el numero {}: \".format(i)))\n",
    "    d.append(nd)\n",
    "    \n",
    "print(\"El primer numero es:\")        \n",
    "for i in range(1):\n",
    "    print(d[0])\n",
    "\n",
    "print(\"El ultimo numero es:\")  \n",
    "print (d.pop())\n"
   ]
  },
  {
   "cell_type": "markdown",
   "metadata": {},
   "source": [
    "Añadir 3 valores de string a la tupla."
   ]
  },
  {
   "cell_type": "code",
   "execution_count": 142,
   "metadata": {},
   "outputs": [
    {
     "name": "stdout",
     "output_type": "stream",
     "text": [
      "Valor: asd\n",
      "Valor: afa\n",
      "Valor: asf\n",
      "Valor: as\n",
      "agregar: as\n",
      "agregar: a\n",
      "agregar: a\n",
      "['asd', 'afa', 'asf', 'as', 'as', 'a', 'a']\n"
     ]
    }
   ],
   "source": [
    "d = []\n",
    "\n",
    "for i in range(1,5):\n",
    "    nd = str( input( \"Valor: \"))\n",
    "    d.append(nd)\n",
    "    \n",
    "x=str(input(\"agregar: \"))   \n",
    "d.insert(6,x)\n",
    "y=str(input(\"agregar: \"))   \n",
    "d.insert(8,y)\n",
    "z=str(input(\"agregar: \"))   \n",
    "d.insert(10,z)\n",
    "print(d)\n"
   ]
  },
  {
   "cell_type": "markdown",
   "metadata": {},
   "source": [
    "Verificar si una variable existe dentro de la tupla."
   ]
  },
  {
   "cell_type": "code",
   "execution_count": 145,
   "metadata": {},
   "outputs": [
    {
     "name": "stdout",
     "output_type": "stream",
     "text": [
      "Valor: 1\n",
      "Valor: 2\n",
      "Valor: 3\n",
      "Valor: 4\n",
      "Numero a verifcar: 4\n",
      "El número existe en la lista\n"
     ]
    }
   ],
   "source": [
    "d = []\n",
    "\n",
    "for i in range(1,5):\n",
    "    nd = str( input( \"Valor: \"))\n",
    "    d.append(nd)\n",
    "x=input(\"Numero a verifcar: \")\n",
    "\n",
    "if x in d: \n",
    "    print(\"El número existe en la lista\")\n",
    "else:\n",
    "    print(\"No existe\")"
   ]
  },
  {
   "cell_type": "markdown",
   "metadata": {},
   "source": [
    "Crear una lista con 40 elementos aleatorios enteros."
   ]
  },
  {
   "cell_type": "code",
   "execution_count": 42,
   "metadata": {},
   "outputs": [
    {
     "name": "stdout",
     "output_type": "stream",
     "text": [
      "6\n",
      "5\n",
      "1\n",
      "7\n",
      "6\n",
      "7\n",
      "0\n",
      "1\n",
      "9\n",
      "4\n",
      "4\n",
      "4\n",
      "8\n",
      "3\n",
      "9\n",
      "8\n",
      "2\n",
      "5\n",
      "8\n",
      "8\n",
      "3\n",
      "9\n",
      "7\n",
      "5\n",
      "5\n",
      "2\n",
      "5\n",
      "2\n",
      "6\n",
      "1\n",
      "1\n",
      "6\n",
      "3\n",
      "6\n",
      "8\n",
      "2\n",
      "8\n",
      "9\n",
      "1\n",
      "1\n"
     ]
    },
    {
     "data": {
      "text/plain": [
       "40"
      ]
     },
     "execution_count": 42,
     "metadata": {},
     "output_type": "execute_result"
    }
   ],
   "source": [
    "import random\n",
    "l=[]\n",
    "for i in range(1,41):\n",
    "    ln=random.randrange(10)\n",
    "    l.append(ln)\n",
    "for i in range(len(l)):\n",
    "    print(l[i]) \n",
    "len(l)\n",
    "\n",
    "\n"
   ]
  },
  {
   "cell_type": "markdown",
   "metadata": {},
   "source": [
    "Con una funcion (def) crear dos listas nuevas a partir de la lista creada por numeros aleatorios, en la cual en una esten los elementos pares, y en la otra los elementos impares."
   ]
  },
  {
   "cell_type": "code",
   "execution_count": 73,
   "metadata": {},
   "outputs": [],
   "source": [
    "\n",
    "  def clasificacion(l):\n",
    "    lpar=[]\n",
    "    limpar=[]\n",
    "    \n",
    "    for i in range(0,len(l)):\n",
    "        if l[i]%2==0:\n",
    "            lpar.append(l[i])\n",
    "        else:\n",
    "            limpar.append(l[i])\n",
    "\n",
    "    return(lpar,limpar)  \n",
    "\n",
    "\n"
   ]
  },
  {
   "cell_type": "code",
   "execution_count": 74,
   "metadata": {},
   "outputs": [
    {
     "data": {
      "text/plain": [
       "[5, 1, 7, 7, 1, 9, 3, 9, 5, 3, 9, 7, 5, 5, 5, 1, 1, 3, 9, 1, 1]"
      ]
     },
     "execution_count": 74,
     "metadata": {},
     "output_type": "execute_result"
    }
   ],
   "source": [
    "Lista_par=clasificacion(l)[0]\n",
    "Lista_impar=clasificacion(l)[1]\n",
    "Lista_par\n",
    "Lista_impar"
   ]
  },
  {
   "cell_type": "markdown",
   "metadata": {},
   "source": [
    "Crear dos variables con la longitud de ambas listas nuevas e imprimir las variables.\n"
   ]
  },
  {
   "cell_type": "code",
   "execution_count": 75,
   "metadata": {},
   "outputs": [
    {
     "name": "stdout",
     "output_type": "stream",
     "text": [
      "19 21\n"
     ]
    }
   ],
   "source": [
    "p=len(Lista_par)\n",
    "i=len(Lista_impar)\n",
    "print(p,i)"
   ]
  },
  {
   "cell_type": "markdown",
   "metadata": {},
   "source": [
    "Ordenar los elementos de la lista par de mayor a menor, y los de la lista impar de menor a mayor."
   ]
  },
  {
   "cell_type": "code",
   "execution_count": 79,
   "metadata": {},
   "outputs": [
    {
     "data": {
      "text/plain": [
       "[0, 2, 2, 2, 2, 4, 4, 4, 6, 6, 6, 6, 6, 8, 8, 8, 8, 8, 8]"
      ]
     },
     "execution_count": 79,
     "metadata": {},
     "output_type": "execute_result"
    }
   ],
   "source": [
    "Lista_par.sort()\n",
    "Lista_impar.sort(reverse=True)\n"
   ]
  },
  {
   "cell_type": "markdown",
   "metadata": {},
   "source": [
    "tilizar al menos cuatro de las funciones de listas en python en la lista original de 40 elementos"
   ]
  },
  {
   "cell_type": "code",
   "execution_count": 81,
   "metadata": {},
   "outputs": [],
   "source": [
    "l.sort()\n",
    "l.sort(reverse=True)\n",
    "o=l.copy()\n",
    "l.remove(2)"
   ]
  },
  {
   "cell_type": "markdown",
   "metadata": {},
   "source": [
    "Crear un diccionario de 6 personas que conozcas con su primer nombre y su edad."
   ]
  },
  {
   "cell_type": "code",
   "execution_count": 104,
   "metadata": {},
   "outputs": [],
   "source": [
    "amixes = {'Gaby': 20, 'Les': 20, 'Sofia': 13, 'Uli': 21, 'Vero':21, 'Ana': 20}"
   ]
  },
  {
   "cell_type": "markdown",
   "metadata": {},
   "source": [
    "Crear una lista con los valores de la edad y reacomodar la lista de menor a mayor valor."
   ]
  },
  {
   "cell_type": "code",
   "execution_count": 105,
   "metadata": {},
   "outputs": [
    {
     "name": "stdout",
     "output_type": "stream",
     "text": [
      "Valores [13, 20, 20, 20, 21, 21]\n"
     ]
    }
   ],
   "source": [
    "edades=[20,20,13,21,20]\n",
    "edades.sort()\n",
    "edades\n",
    "\n",
    "edades = amixes.values()\n",
    "print(\"Valores\", sorted(list(edades)))"
   ]
  },
  {
   "cell_type": "markdown",
   "metadata": {},
   "source": [
    "Usando el diccionario y un loop, imprimir solo los nombres."
   ]
  },
  {
   "cell_type": "code",
   "execution_count": 106,
   "metadata": {},
   "outputs": [
    {
     "name": "stdout",
     "output_type": "stream",
     "text": [
      "Gaby\n",
      "Les\n",
      "Sofia\n",
      "Uli\n",
      "Vero\n",
      "Ana\n"
     ]
    }
   ],
   "source": [
    "for i in amixes:\n",
    "    print(i)  "
   ]
  },
  {
   "cell_type": "markdown",
   "metadata": {},
   "source": [
    "Añadir dos personas nuevas a tu diccionario, incluyendo edad."
   ]
  },
  {
   "cell_type": "code",
   "execution_count": 107,
   "metadata": {},
   "outputs": [
    {
     "name": "stdout",
     "output_type": "stream",
     "text": [
      "{'Gaby': 20, 'Les': 20, 'Sofia': 13, 'Uli': 21, 'Vero': 21, 'Ana': 20, 'VAle': 20, 'Mayra': 21}\n"
     ]
    }
   ],
   "source": [
    "amixes[\"VAle\"] = 20\n",
    "amixes[\"Mayra\"] = 21\n",
    "print(amixes)"
   ]
  },
  {
   "cell_type": "markdown",
   "metadata": {},
   "source": [
    "Crea un set con 100 numeros aleatorios enteros del 1 al 25."
   ]
  },
  {
   "cell_type": "code",
   "execution_count": 117,
   "metadata": {},
   "outputs": [
    {
     "data": {
      "text/plain": [
       "{1,\n",
       " 2,\n",
       " 3,\n",
       " 4,\n",
       " 5,\n",
       " 6,\n",
       " 7,\n",
       " 9,\n",
       " 10,\n",
       " 11,\n",
       " 12,\n",
       " 13,\n",
       " 14,\n",
       " 15,\n",
       " 16,\n",
       " 17,\n",
       " 18,\n",
       " 19,\n",
       " 20,\n",
       " 21,\n",
       " 22,\n",
       " 23,\n",
       " 24,\n",
       " 25}"
      ]
     },
     "execution_count": 117,
     "metadata": {},
     "output_type": "execute_result"
    }
   ],
   "source": [
    "v=set()\n",
    "for i in range(0,99):\n",
    "    v.add(r.randint(1,25))\n",
    "v    \n"
   ]
  },
  {
   "cell_type": "markdown",
   "metadata": {},
   "source": [
    "Comprueba la longitud de tu set."
   ]
  },
  {
   "cell_type": "code",
   "execution_count": 118,
   "metadata": {},
   "outputs": [
    {
     "data": {
      "text/plain": [
       "24"
      ]
     },
     "execution_count": 118,
     "metadata": {},
     "output_type": "execute_result"
    }
   ],
   "source": [
    "len(v)"
   ]
  },
  {
   "cell_type": "markdown",
   "metadata": {},
   "source": [
    "Crea una lista de 5 numeros aleatorios del 1 al 10 y comprueba si cada valor aparece en el set inicial."
   ]
  },
  {
   "cell_type": "code",
   "execution_count": 123,
   "metadata": {},
   "outputs": [
    {
     "name": "stdout",
     "output_type": "stream",
     "text": [
      "[7, 6, 8, 5, 6]\n",
      "EXISTE\n",
      "EXISTE\n",
      "NO EXISTE\n",
      "EXISTE\n",
      "EXISTE\n"
     ]
    }
   ],
   "source": [
    "import random \n",
    "\n",
    "lista = [random.randrange(1, 10)]\n",
    "for i in range(1,5):\n",
    "    lista2 = [random.randrange(1, 10)]\n",
    "    lista += lista2\n",
    "print(lista)\n",
    "\n",
    "for i in lista:\n",
    "    x = i in v\n",
    "    if x == True:\n",
    "        print(\"EXISTE\")\n",
    "    else:\n",
    "        print(\"NO EXISTE\")\n"
   ]
  },
  {
   "cell_type": "code",
   "execution_count": 133,
   "metadata": {},
   "outputs": [],
   "source": [
    "#Bibliografia\n",
    "#Python for Data Mining Quick Syntax Reference-Valentina Porcu\n",
    "#https://catedu.gitbooks.io/python-for-person-in-everybody/content/es/08-lists.html"
   ]
  }
 ],
 "metadata": {
  "kernelspec": {
   "display_name": "Python 3",
   "language": "python",
   "name": "python3"
  },
  "language_info": {
   "codemirror_mode": {
    "name": "ipython",
    "version": 3
   },
   "file_extension": ".py",
   "mimetype": "text/x-python",
   "name": "python",
   "nbconvert_exporter": "python",
   "pygments_lexer": "ipython3",
   "version": "3.8.3"
  }
 },
 "nbformat": 4,
 "nbformat_minor": 4
}
